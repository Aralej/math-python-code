{
 "cells": [
  {
   "cell_type": "markdown",
   "id": "4a8b3475",
   "metadata": {},
   "source": [
    "Imports - Run this once"
   ]
  },
  {
   "cell_type": "code",
   "execution_count": 5,
   "id": "c642482a",
   "metadata": {},
   "outputs": [
    {
     "ename": "ModuleNotFoundError",
     "evalue": "No module named 'google'",
     "output_type": "error",
     "traceback": [
      "\u001b[0;31m---------------------------------------------------------------------------\u001b[0m",
      "\u001b[0;31mModuleNotFoundError\u001b[0m                       Traceback (most recent call last)",
      "Cell \u001b[0;32mIn[5], line 3\u001b[0m\n\u001b[1;32m      1\u001b[0m \u001b[38;5;28;01mimport\u001b[39;00m \u001b[38;5;21;01mpandas\u001b[39;00m \u001b[38;5;28;01mas\u001b[39;00m \u001b[38;5;21;01mpd\u001b[39;00m\n\u001b[1;32m      2\u001b[0m \u001b[38;5;28;01mimport\u001b[39;00m \u001b[38;5;21;01mmatplotlib\u001b[39;00m\u001b[38;5;21;01m.\u001b[39;00m\u001b[38;5;21;01mpyplot\u001b[39;00m \u001b[38;5;28;01mas\u001b[39;00m \u001b[38;5;21;01mplt\u001b[39;00m\n\u001b[0;32m----> 3\u001b[0m \u001b[38;5;28;01mfrom\u001b[39;00m \u001b[38;5;21;01mgoogle\u001b[39;00m\u001b[38;5;21;01m.\u001b[39;00m\u001b[38;5;21;01mcolab\u001b[39;00m \u001b[38;5;28;01mimport\u001b[39;00m files\n\u001b[1;32m      4\u001b[0m \u001b[38;5;28;01mimport\u001b[39;00m \u001b[38;5;21;01mio\u001b[39;00m\n",
      "\u001b[0;31mModuleNotFoundError\u001b[0m: No module named 'google'"
     ]
    }
   ],
   "source": [
    "import pandas as pd\n",
    "import matplotlib.pyplot as plt\n",
    "from google.colab import files\n",
    "import io\n"
   ]
  },
  {
   "cell_type": "markdown",
   "id": "a61ef20d",
   "metadata": {},
   "source": [
    "Upload .csv file from your computer (one option)"
   ]
  },
  {
   "cell_type": "code",
   "execution_count": 3,
   "id": "2ea8a898",
   "metadata": {
    "collapsed": true
   },
   "outputs": [
    {
     "ename": "NameError",
     "evalue": "name 'files' is not defined",
     "output_type": "error",
     "traceback": [
      "\u001b[0;31m---------------------------------------------------------------------------\u001b[0m",
      "\u001b[0;31mNameError\u001b[0m                                 Traceback (most recent call last)",
      "Cell \u001b[0;32mIn[3], line 2\u001b[0m\n\u001b[1;32m      1\u001b[0m \u001b[38;5;66;03m# dialog to upload from computer:\u001b[39;00m\n\u001b[0;32m----> 2\u001b[0m uploaded \u001b[38;5;241m=\u001b[39m \u001b[43mfiles\u001b[49m\u001b[38;5;241m.\u001b[39mupload()\n\u001b[1;32m      3\u001b[0m file_name \u001b[38;5;241m=\u001b[39m \u001b[38;5;28mnext\u001b[39m(\u001b[38;5;28miter\u001b[39m(uploaded))\n\u001b[1;32m      4\u001b[0m table_1 \u001b[38;5;241m=\u001b[39m pd\u001b[38;5;241m.\u001b[39mread_csv(io\u001b[38;5;241m.\u001b[39mBytesIO(uploaded[file_name]))\n",
      "\u001b[0;31mNameError\u001b[0m: name 'files' is not defined"
     ]
    }
   ],
   "source": [
    "# dialog to upload from computer:\n",
    "uploaded = files.upload()\n",
    "file_name = next(iter(uploaded))\n",
    "table_1 = pd.read_csv(io.BytesIO(uploaded[file_name]))"
   ]
  },
  {
   "cell_type": "markdown",
   "id": "67ec3dbb",
   "metadata": {},
   "source": [
    "Get .csv from a URL (another option)"
   ]
  },
  {
   "cell_type": "code",
   "execution_count": 4,
   "id": "6358d88f",
   "metadata": {},
   "outputs": [],
   "source": [
    "# Data relating to Old Faithful geyser eruptions\n",
    "url = \"https://people.sc.fsu.edu/~jburkardt/data/csv/faithful.csv\"\n",
    "\n",
    "table_1 = pd.read_csv(url)\n"
   ]
  },
  {
   "cell_type": "markdown",
   "id": "3f0c5f52",
   "metadata": {},
   "source": [
    "Those imports and that url variable will be good for maybe 20 minutes, so you don't have to repeat those steps each time. Now determine what columns you want and convert them to numpy arrays."
   ]
  },
  {
   "cell_type": "code",
   "execution_count": null,
   "id": "87fc6f02",
   "metadata": {},
   "outputs": [],
   "source": [
    "# You could just display the whole table, but that might be too much\n",
    "# table_1\n",
    "\n",
    "# Get the headers so you can see the column names and two rows\n",
    "print(table_1.head(2))\n",
    "\n",
    "# Column names as a variable\n",
    "col_names = table_1.columns\n",
    "\n",
    "# Another way to get column names\n",
    "print(\"\\n column names:\")\n",
    "for a in range(len(col_names)):\n",
    "    print(a, \" \", col_names[a])\n",
    "\n",
    "# One more way\n",
    "print(\"\\n column names:\")\n",
    "for col in col_names:\n",
    "    print(col)\n",
    "\n",
    "     \n"
   ]
  },
  {
   "cell_type": "markdown",
   "id": "0c66e557",
   "metadata": {},
   "source": [
    "Graph index and one other column as (x,y) points."
   ]
  },
  {
   "cell_type": "code",
   "execution_count": null,
   "id": "e6edea1c",
   "metadata": {},
   "outputs": [],
   "source": [
    "# convert values to numpy arrays\n",
    "x = table_1['Index'].to_numpy()\n",
    "y = table_1[' \"Eruption length (mins)\"'].to_numpy()\n",
    "\n",
    "#graph\n",
    "xmin = x.min() - 5\n",
    "xmax = x.max() + 5\n",
    "ymin = 0 #y.min() - 5\n",
    "ymax = 6 #y.max() + 5\n",
    "\n",
    "fig, ax = plt.subplots()\n",
    "plt.axis([xmin,xmax,ymin,ymax]) # window size\n",
    "plt.plot([xmin,xmax],[0,0],'b') # blue x axis\n",
    "plt.plot([0,0],[ymin,ymax], 'b') # blue y axis\n",
    "plt.plot(x,y,'ro') # scatterplot \n",
    "#plt.plot(x,y,'b') # line graph\n",
    "plt.show()\n",
    "\n",
    "     "
   ]
  },
  {
   "cell_type": "markdown",
   "id": "0dadc901",
   "metadata": {},
   "source": [
    "Using variables for column names"
   ]
  },
  {
   "cell_type": "code",
   "execution_count": null,
   "id": "543fa07b",
   "metadata": {},
   "outputs": [],
   "source": [
    "x_name = col_names[0]\n",
    "y_name = col_names[2]\n",
    "\n",
    "# convert values to numpy arrays\n",
    "x = table_1[x_name].to_numpy()\n",
    "y = table_1[y_name].to_numpy()\n",
    "\n",
    "#graph\n",
    "xmin = 1#x.min() - 5\n",
    "xmax = 55 #x.max() + 5\n",
    "ymin = y.min() - 5\n",
    "ymax = y.max() + 5\n",
    "\n",
    "fig, ax = plt.subplots()\n",
    "plt.axis([xmin,xmax,ymin,ymax]) # window size\n",
    "plt.plot([xmin,xmax],[0,0],'b') # blue x axis\n",
    "plt.plot([0,0],[ymin,ymax], 'b') # blue y axis\n",
    "plt.plot(x,y,'ro') # scatterplot \n",
    "plt.plot(x,y,'b') # line graph\n",
    "ax.set_xlabel(x_name)\n",
    "ax.set_ylabel(y_name)\n",
    "plt.show()\n",
    "\n"
   ]
  },
  {
   "cell_type": "code",
   "execution_count": null,
   "id": "fcf761af",
   "metadata": {},
   "outputs": [],
   "source": []
  },
  {
   "cell_type": "code",
   "execution_count": null,
   "id": "d70da510",
   "metadata": {},
   "outputs": [],
   "source": []
  }
 ],
 "metadata": {
  "kernelspec": {
   "display_name": "Python 3 (ipykernel)",
   "language": "python",
   "name": "python3"
  },
  "language_info": {
   "codemirror_mode": {
    "name": "ipython",
    "version": 3
   },
   "file_extension": ".py",
   "mimetype": "text/x-python",
   "name": "python",
   "nbconvert_exporter": "python",
   "pygments_lexer": "ipython3",
   "version": "3.10.9"
  }
 },
 "nbformat": 4,
 "nbformat_minor": 5
}
