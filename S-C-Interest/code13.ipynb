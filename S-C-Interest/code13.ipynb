{
 "cells": [
  {
   "cell_type": "markdown",
   "id": "491b0730",
   "metadata": {},
   "source": [
    "Simple interest\n",
    "principle * rate * time = interest"
   ]
  },
  {
   "cell_type": "code",
   "execution_count": 1,
   "id": "c7801167",
   "metadata": {},
   "outputs": [
    {
     "name": "stdout",
     "output_type": "stream",
     "text": [
      "interest =  50.0\n"
     ]
    }
   ],
   "source": [
    "p = 1000\n",
    "r = .05\n",
    "t = 1\n",
    "interest = p*r*t\n",
    "print(\"interest = \", interest)\n"
   ]
  },
  {
   "cell_type": "markdown",
   "id": "3a5427e0",
   "metadata": {},
   "source": [
    "New amount = principle + interest"
   ]
  },
  {
   "cell_type": "code",
   "execution_count": 2,
   "id": "8e993986",
   "metadata": {},
   "outputs": [
    {
     "name": "stdout",
     "output_type": "stream",
     "text": [
      "New amount =  1150.0\n"
     ]
    }
   ],
   "source": [
    "p = 1000\n",
    "r = .05\n",
    "t = 3\n",
    "interest = p*r*t\n",
    "a = p + interest\n",
    "print(\"New amount = \", a)\n",
    "\n",
    "     "
   ]
  },
  {
   "cell_type": "markdown",
   "id": "9ccd455d",
   "metadata": {},
   "source": [
    "The algebra for any percent increase:\n",
    "New amount = p + pr\n",
    "new amount = p (1 + r)"
   ]
  },
  {
   "cell_type": "code",
   "execution_count": 3,
   "id": "49c3fef4",
   "metadata": {},
   "outputs": [
    {
     "name": "stdout",
     "output_type": "stream",
     "text": [
      "New amount =  1050.0\n"
     ]
    }
   ],
   "source": [
    "p = 1000\n",
    "r = .05\n",
    "a = p*(1+r)\n",
    "print(\"New amount = \", a)"
   ]
  },
  {
   "cell_type": "markdown",
   "id": "9ac4f5cb",
   "metadata": {},
   "source": [
    "Compounding is adding the interest to the principle and then calculating percent increase from this new amount\n",
    "Original amount = P\n",
    "New amount = P(1+r)\n",
    "Compounded again = P(1+r)(1+r)\n",
    "And again = P(1+r)(1+r)(1+r) = P(1+r)3"
   ]
  },
  {
   "cell_type": "code",
   "execution_count": 4,
   "id": "a4956eae",
   "metadata": {},
   "outputs": [
    {
     "name": "stdout",
     "output_type": "stream",
     "text": [
      "Annuity =  1157.6250000000002\n"
     ]
    }
   ],
   "source": [
    "P = 1000\n",
    "r = .05\n",
    "t = 3\n",
    "annuity = p*(1+r)**t\n",
    "\n",
    "print(\"Annuity = \", annuity)\n"
   ]
  },
  {
   "cell_type": "markdown",
   "id": "58d52e7d",
   "metadata": {},
   "source": [
    "When the compunding happens n times per year, here is the formula:\n",
    "\n"
   ]
  },
  {
   "cell_type": "code",
   "execution_count": 5,
   "id": "6218853d",
   "metadata": {},
   "outputs": [
    {
     "name": "stdout",
     "output_type": "stream",
     "text": [
      "Annuity =  1161.4722313334678\n"
     ]
    }
   ],
   "source": [
    "P = 1000\n",
    "r = .05\n",
    "t = 3\n",
    "n = 12\n",
    "\n",
    "# use extra parentheses\n",
    "annuity = p*(1+(r/n))**(n*t)\n",
    "\n",
    "print(\"Annuity = \", annuity)\n"
   ]
  },
  {
   "cell_type": "markdown",
   "id": "cf69bca4",
   "metadata": {},
   "source": [
    "conitnuous growth:Annuity$=Pe(rt)$"
   ]
  },
  {
   "cell_type": "code",
   "execution_count": 6,
   "id": "28ade5d2",
   "metadata": {},
   "outputs": [
    {
     "name": "stdout",
     "output_type": "stream",
     "text": [
      "1161.8298860036332  or  1161.834242728283\n"
     ]
    }
   ],
   "source": [
    "import math\n",
    "\n",
    "p = 1000\n",
    "r = .05\n",
    "t = 3\n",
    "n = 1000\n",
    "\n",
    "n_times = p*(1+(r/n))**(n*t)\n",
    "\n",
    "continuous = p*math.e**(r*t)\n",
    "\n",
    "print(n_times, \" or \", continuous)\n",
    "\n"
   ]
  },
  {
   "cell_type": "markdown",
   "id": "e17ae167",
   "metadata": {},
   "source": [
    "Mortgage formula"
   ]
  },
  {
   "cell_type": "code",
   "execution_count": 7,
   "id": "d88d93c9",
   "metadata": {},
   "outputs": [
    {
     "name": "stdout",
     "output_type": "stream",
     "text": [
      "monthly payment =  1362.69\n"
     ]
    }
   ],
   "source": [
    "p = 240000\n",
    "r = .055\n",
    "t = 30\n",
    "\n",
    "# Break down that formula into parts\n",
    "numerator = (r/12)*(1+(r/12))**(12*t) \n",
    "denominator = (1+(r/12))**(12*t) - 1 \n",
    "payment = round(p*numerator/denominator, 2)\n",
    "\n",
    "print(\"monthly payment = \", payment)"
   ]
  },
  {
   "cell_type": "markdown",
   "id": "57932acd",
   "metadata": {},
   "source": [
    "Amortization (mortgage payment schedule)"
   ]
  },
  {
   "cell_type": "code",
   "execution_count": 8,
   "id": "dbe06940",
   "metadata": {},
   "outputs": [
    {
     "name": "stdout",
     "output_type": "stream",
     "text": [
      "payment =  1362.69\n",
      "month \t balance \t interest\n",
      "0 \t 240000.0 \t 1100.0\n",
      "24 \t 233351.69 \t 1069.53\n",
      "48 \t 225932.19 \t 1035.52\n",
      "72 \t 217652.04 \t 997.57\n",
      "96 \t 208411.46 \t 955.22\n",
      "120 \t 198098.97 \t 907.95\n",
      "144 \t 186590.25 \t 855.21\n",
      "168 \t 173746.54 \t 796.34\n",
      "192 \t 159412.99 \t 730.64\n",
      "216 \t 143416.81 \t 657.33\n",
      "240 \t 125565.08 \t 575.51\n",
      "264 \t 105642.58 \t 484.2\n",
      "288 \t 83409.15 \t 382.29\n",
      "312 \t 58596.68 \t 268.57\n",
      "336 \t 30906.0 \t 141.65\n",
      "359 \t 1359.74 \t 6.23\n"
     ]
    }
   ],
   "source": [
    "p = 240000.00\n",
    "r = .055\n",
    "t = 30\n",
    "\n",
    "\n",
    "# Break down that formula into parts\n",
    "numerator = (r/12)*(1+(r/12))**(12*t)\n",
    "denominator = (1+(r/12))**(12*t) - 1\n",
    "payment = round(p* numerator/denominator, 2)\n",
    "\n",
    "print(\"payment = \", payment)\n",
    "\n",
    "# loop to show interest amounts\n",
    "balance = p\n",
    "print(\"month \\t balance \\t interest\") \n",
    "for a in range(12*t):\n",
    "    interest = round(balance*r/12, 2)\n",
    "    if a%24==0 or a==359:\n",
    "        print(a, \"\\t\", balance, \"\\t\", interest) \n",
    "    balance = round(balance+interest-payment,2) "
   ]
  },
  {
   "cell_type": "code",
   "execution_count": 9,
   "id": "42c22dfc",
   "metadata": {},
   "outputs": [
    {
     "ename": "SyntaxError",
     "evalue": "invalid syntax (2885716076.py, line 1)",
     "output_type": "error",
     "traceback": [
      "\u001b[0;36m  Cell \u001b[0;32mIn[9], line 1\u001b[0;36m\u001b[0m\n\u001b[0;31m    Retirement account estimation\u001b[0m\n\u001b[0m               ^\u001b[0m\n\u001b[0;31mSyntaxError\u001b[0m\u001b[0;31m:\u001b[0m invalid syntax\n"
     ]
    }
   ],
   "source": [
    "Retirement account estimation"
   ]
  },
  {
   "cell_type": "code",
   "execution_count": 10,
   "id": "abaa9ade",
   "metadata": {},
   "outputs": [
    {
     "name": "stdout",
     "output_type": "stream",
     "text": [
      "annuity =  1061597.32\n",
      "Annual income from interest =  84927.79\n"
     ]
    }
   ],
   "source": [
    "# Change these variables\n",
    "p = 1000\n",
    "r = .08\n",
    "t = 38\n",
    "monthly = 350\n",
    "\n",
    "# The loop will update this variable\n",
    "annuity = p\n",
    "\n",
    "# loop for contribution and percent growth\n",
    "for a in range(12*t):\n",
    "    annuity = (annuity+monthly)*(1+(r/12))\n",
    "\n",
    "print(\"annuity = \", round(annuity, 2))\n",
    "print(\"Annual income from interest = \", round(annuity*r, 2))\n",
    "\n",
    "     "
   ]
  },
  {
   "cell_type": "code",
   "execution_count": null,
   "id": "cc8e1cf5",
   "metadata": {},
   "outputs": [],
   "source": []
  }
 ],
 "metadata": {
  "kernelspec": {
   "display_name": "Python 3 (ipykernel)",
   "language": "python",
   "name": "python3"
  },
  "language_info": {
   "codemirror_mode": {
    "name": "ipython",
    "version": 3
   },
   "file_extension": ".py",
   "mimetype": "text/x-python",
   "name": "python",
   "nbconvert_exporter": "python",
   "pygments_lexer": "ipython3",
   "version": "3.10.9"
  }
 },
 "nbformat": 4,
 "nbformat_minor": 5
}
